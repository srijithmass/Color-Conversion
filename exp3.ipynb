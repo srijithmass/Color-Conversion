{
 "cells": [
  {
   "cell_type": "code",
   "execution_count": 1,
   "id": "2728122e",
   "metadata": {},
   "outputs": [],
   "source": [
    "# Developed By: SRIJITH R\n",
    "# Register Number: 212221240054\n",
    "\n",
    "# i) Convert BGR and RGB to HSV and GRAY\n",
    "\n",
    "import cv2\n",
    "img = cv2.imread('girlintrain.png')\n",
    "cv2.imshow('original',img)\n",
    "\n",
    "bgr2hsv = cv2.cvtColor(img,cv2.COLOR_BGR2HSV)\n",
    "cv2.imshow('BGR To HSV',bgr2hsv)\n",
    "\n",
    "bgr2gray = cv2.cvtColor(img,cv2.COLOR_BGR2GRAY)\n",
    "cv2.imshow('BGR To GRAY',bgr2gray)\n",
    "\n",
    "rgb2hsv = cv2.cvtColor(img,cv2.COLOR_RGB2HSV)\n",
    "cv2.imshow('RGB2HSV',rgb2hsv)\n",
    "\n",
    "rgb2gray = cv2.cvtColor(img,cv2.COLOR_RGB2GRAY)\n",
    "cv2.imshow('RGB2GRAY',rgb2gray)\n",
    "\n",
    "cv2.waitKey(0)\n",
    "cv2.destroyAllWindows()"
   ]
  },
  {
   "cell_type": "code",
   "execution_count": 2,
   "id": "89bd604a",
   "metadata": {},
   "outputs": [],
   "source": [
    "cv2.imshow('HSV',bgr2hsv)\n",
    "\n",
    "hsv2rgb = cv2.cvtColor(bgr2hsv,cv2.COLOR_HSV2RGB)\n",
    "cv2.imshow('HSVtoRGB',hsv2rgb)\n",
    "\n",
    "hsv2bgr = cv2.cvtColor(bgr2hsv,cv2.COLOR_HSV2BGR)\n",
    "cv2.imshow('HSVtoBGR',hsv2bgr)\n",
    "\n",
    "cv2.waitKey(0)\n",
    "cv2.destroyAllWindows()"
   ]
  },
  {
   "cell_type": "code",
   "execution_count": 4,
   "id": "7ea14990",
   "metadata": {},
   "outputs": [],
   "source": [
    "cv2.imshow('RGB',img)\n",
    "\n",
    "rgb2YcrCb = cv2.cvtColor(img,cv2.COLOR_RGB2YCrCb)\n",
    "cv2.imshow('RGBtoYCrCb',rgb2YcrCb)\n",
    "\n",
    "bgr2YcrCb = cv2.cvtColor(img,cv2.COLOR_HSV2BGR)\n",
    "cv2.imshow('BGRtoYCrCb',bgr2YcrCb)\n",
    "\n",
    "cv2.waitKey(0)\n",
    "cv2.destroyAllWindows()"
   ]
  },
  {
   "cell_type": "code",
   "execution_count": null,
   "id": "db62b184",
   "metadata": {},
   "outputs": [],
   "source": [
    "b,g,r = cv2.split(img)\n",
    "cv2.imshow(\"RED MODEL\", r)\n",
    "cv2.imshow(\"GREEN MODEL\", g)\n",
    "cv2.imshow(\"BLUE MODEL \", b)\n",
    "\n",
    "merger = cv2.merge([b,g,r])\n",
    "cv2.imshow(\"MERGED IMAGE\", merger)\n",
    "\n",
    "cv2.waitKey(0)\n",
    "cv2.destroyAllWindows()"
   ]
  },
  {
   "cell_type": "code",
   "execution_count": 2,
   "id": "59a47a7b",
   "metadata": {},
   "outputs": [],
   "source": [
    "cv2.imshow(\"INITIAL_HSV \", bgr2hsv)\n",
    "\n",
    "h,s,v = cv2.split(bgr2hsv)\n",
    "cv2.imshow(\"RED MODEL\", h)\n",
    "cv2.imshow(\"GREEN MODEL\", s)\n",
    "cv2.imshow(\"BLUE MODEL \", v)\n",
    "\n",
    "merger = cv2.merge([h,s,v])\n",
    "cv2.imshow(\"MERGED IMAGE\", merger)\n",
    "\n",
    "cv2.waitKey(0)\n",
    "cv2.destroyAllWindows()"
   ]
  },
  {
   "cell_type": "code",
   "execution_count": null,
   "id": "37632df5",
   "metadata": {},
   "outputs": [],
   "source": []
  }
 ],
 "metadata": {
  "kernelspec": {
   "display_name": "Python 3 (ipykernel)",
   "language": "python",
   "name": "python3"
  },
  "language_info": {
   "codemirror_mode": {
    "name": "ipython",
    "version": 3
   },
   "file_extension": ".py",
   "mimetype": "text/x-python",
   "name": "python",
   "nbconvert_exporter": "python",
   "pygments_lexer": "ipython3",
   "version": "3.10.10"
  }
 },
 "nbformat": 4,
 "nbformat_minor": 5
}
